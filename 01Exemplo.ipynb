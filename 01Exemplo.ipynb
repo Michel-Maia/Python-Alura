{
  "nbformat": 4,
  "nbformat_minor": 0,
  "metadata": {
    "colab": {
      "provenance": [],
      "authorship_tag": "ABX9TyNxLYQC2flLCKvwDhsTTHHr"
    },
    "kernelspec": {
      "name": "python3",
      "display_name": "Python 3"
    },
    "language_info": {
      "name": "python"
    }
  },
  "cells": [
    {
      "cell_type": "markdown",
      "source": [
        "# Aula 01 "
      ],
      "metadata": {
        "id": "jMNnU-VT2eAE"
      }
    },
    {
      "cell_type": "markdown",
      "source": [
        "ex.\n",
        "\n",
        "Uma pessoa vai até a padaria todos os dias. A distância de sua casa até o estabelecimento é de 100 metros e todo percurso é feito em 20 segundos.\n",
        "\n",
        "Para calcular a velocidade média e descobrir a razão do espaço pelo tempo, podemos dividir o espaço percorrido pelo tempo.\n",
        "\n",
        "Sabendo disso, a pessoa deseja criar uma função chamada velocidade, que recebe 2 parâmetros chamados espaco e tempo, realizar o cálculo e exibir uma saída semelhante ao exemplo abaixo:\n",
        "Velocidade: 5 m/s"
      ],
      "metadata": {
        "id": "UU5lxaHb4j8z"
      }
    },
    {
      "cell_type": "markdown",
      "source": [
        "O nome da função foi definido como esperado e a função recebe 2 argumentos. Além disso, a saída da função é expressa conforme a expectativa da pessoa."
      ],
      "metadata": {
        "id": "ztHPIMb64z_a"
      }
    },
    {
      "cell_type": "code",
      "source": [
        "def velocidade(espaco,tempo):\n",
        "  v = espaco / tempo\n",
        "  print(f'Velocidade: {v} m/s')\n",
        "\n",
        "velocidade(100,20)"
      ],
      "metadata": {
        "colab": {
          "base_uri": "https://localhost:8080/"
        },
        "id": "GJkLsdSC2kra",
        "outputId": "f269b007-a561-42c9-db48-bea16cc9b093"
      },
      "execution_count": null,
      "outputs": [
        {
          "output_type": "stream",
          "name": "stdout",
          "text": [
            "Velocidade: 5.0 m/s\n"
          ]
        }
      ]
    }
  ]
}