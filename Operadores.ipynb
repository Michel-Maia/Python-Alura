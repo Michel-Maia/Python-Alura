{
  "nbformat": 4,
  "nbformat_minor": 0,
  "metadata": {
    "colab": {
      "provenance": [],
      "authorship_tag": "ABX9TyOlf6FzcawpKQrbFjkpGHgv"
    },
    "kernelspec": {
      "name": "python3",
      "display_name": "Python 3"
    },
    "language_info": {
      "name": "python"
    }
  },
  "cells": [
    {
      "cell_type": "code",
      "execution_count": null,
      "metadata": {
        "id": "Lb098YgG7Wii"
      },
      "outputs": [],
      "source": []
    },
    {
      "cell_type": "markdown",
      "source": [
        "# Operadores do Python"
      ],
      "metadata": {
        "id": "CVx8cV847XSa"
      }
    },
    {
      "cell_type": "markdown",
      "source": [
        "operadores de comparação"
      ],
      "metadata": {
        "id": "nb8zErPM7cg1"
      }
    },
    {
      "cell_type": "markdown",
      "source": [
        "Operador\tDescrição\n",
        "\n",
        "a == b\t  a igual a b\n",
        "\n",
        "a != b\t  a diferente de b\n",
        "\n",
        "a < b\t    a menor do que b\n",
        "\n",
        "a > b\t    a maior do que b\n",
        "\n",
        "a <= b\t  a menor ou igual a b\n",
        "\n",
        "a >= b\t  a maior ou igual a b\n",
        "\n",
        "\n"
      ],
      "metadata": {
        "id": "oGMIqsKM7i4v"
      }
    }
  ]
}