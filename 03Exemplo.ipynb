{
  "nbformat": 4,
  "nbformat_minor": 0,
  "metadata": {
    "colab": {
      "provenance": [],
      "authorship_tag": "ABX9TyPJGnP8DhIJ/oocNqt18OpF"
    },
    "kernelspec": {
      "name": "python3",
      "display_name": "Python 3"
    },
    "language_info": {
      "name": "python"
    }
  },
  "cells": [
    {
      "cell_type": "markdown",
      "source": [
        "A condicional if é uma estrutura condicional que executa um trecho de código, caso a afirmação seja verdadeira. Se for falsa, executa as afirmações dentro de else"
      ],
      "metadata": {
        "id": "yf_vZXYW08_S"
      }
    },
    {
      "cell_type": "code",
      "execution_count": 1,
      "metadata": {
        "colab": {
          "base_uri": "https://localhost:8080/"
        },
        "id": "kKb-J3CE0yid",
        "outputId": "22d4901b-bf73-46db-ebf9-8a5f4b623e2f"
      },
      "outputs": [
        {
          "output_type": "execute_result",
          "data": {
            "text/plain": [
              "10"
            ]
          },
          "metadata": {},
          "execution_count": 1
        }
      ],
      "source": [
        "a=2\n",
        "\n",
        "if a < 2:\n",
        " a = a + 1\n",
        "else:\n",
        " a = a + 2\n",
        "if a < 4:\n",
        " a = a - 4\n",
        "else:\n",
        " a = a + 6\n",
        "\n",
        "a"
      ]
    },
    {
      "cell_type": "markdown",
      "source": [
        "Na primeira condição, 2 não é maior que 2 e a condição else será executada somando 2 a variável, resultando em 4. Em seguida, a condição if verifica se 4 é menor que 4, o que não é verdade. 4 é igual a 4. Sendo assim a condição else será executada somando 6 na variável, resultando no valor 10."
      ],
      "metadata": {
        "id": "iuvh_4P11MLF"
      }
    }
  ]
}