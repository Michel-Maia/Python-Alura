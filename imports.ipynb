{
  "nbformat": 4,
  "nbformat_minor": 0,
  "metadata": {
    "colab": {
      "provenance": [],
      "authorship_tag": "ABX9TyNyY53YCh9h0wtQHw5ZzAKc"
    },
    "kernelspec": {
      "name": "python3",
      "display_name": "Python 3"
    },
    "language_info": {
      "name": "python"
    }
  },
  "cells": [
    {
      "cell_type": "markdown",
      "source": [
        "# Imports"
      ],
      "metadata": {
        "id": "wOOwoZb44mWO"
      }
    },
    {
      "cell_type": "markdown",
      "source": [
        "https://docs.python.org/3/library/random.html "
      ],
      "metadata": {
        "id": "_LrwQEsb4V60"
      }
    },
    {
      "cell_type": "markdown",
      "source": [
        "Ao importar do módulo random o randrange, estamos importando um método que poderá ser usado no nosso programa. Para verificar o seu tipo\n",
        "\n"
      ],
      "metadata": {
        "id": "l7mdvvR569KV"
      }
    },
    {
      "cell_type": "code",
      "source": [
        "from random import randrange\n",
        "type(randrange)"
      ],
      "metadata": {
        "id": "MU5yjJwR7Jx5"
      },
      "execution_count": null,
      "outputs": []
    },
    {
      "cell_type": "markdown",
      "source": [
        "a saída será \n",
        "\n",
        "method"
      ],
      "metadata": {
        "id": "4G__J6Fj7S9p"
      }
    },
    {
      "cell_type": "code",
      "execution_count": 1,
      "metadata": {
        "id": "AopyzSVR4Cu9"
      },
      "outputs": [],
      "source": [
        "from random import randrange\n",
        "\n"
      ]
    },
    {
      "cell_type": "code",
      "source": [
        "randrange(0, 11)"
      ],
      "metadata": {
        "colab": {
          "base_uri": "https://localhost:8080/"
        },
        "id": "mXd-LrLy49gR",
        "outputId": "36059f3e-477d-4c9b-ef0e-6743ca990af1"
      },
      "execution_count": 3,
      "outputs": [
        {
          "output_type": "execute_result",
          "data": {
            "text/plain": [
              "7"
            ]
          },
          "metadata": {},
          "execution_count": 3
        }
      ]
    },
    {
      "cell_type": "code",
      "source": [
        "notas_matematica = []\n",
        "\n",
        "for notas in range(8): \n",
        "  notas_matematica.append(randrange(0,11))\n",
        "\n",
        "notas_matematica"
      ],
      "metadata": {
        "colab": {
          "base_uri": "https://localhost:8080/"
        },
        "id": "YWxxu97M5VpH",
        "outputId": "6ed5d962-3eb3-433a-d1d7-02c2ade4f647"
      },
      "execution_count": 4,
      "outputs": [
        {
          "output_type": "execute_result",
          "data": {
            "text/plain": [
              "[2, 6, 5, 1, 3, 5, 2, 2]"
            ]
          },
          "metadata": {},
          "execution_count": 4
        }
      ]
    },
    {
      "cell_type": "markdown",
      "source": [
        "len - quantidade lista"
      ],
      "metadata": {
        "id": "kNhfw2F0569f"
      }
    },
    {
      "cell_type": "code",
      "source": [
        "len(notas_matematica)"
      ],
      "metadata": {
        "colab": {
          "base_uri": "https://localhost:8080/"
        },
        "id": "oqMwy_X76CRj",
        "outputId": "e67e4c81-41a9-4fc1-ca81-3a1a6b7122be"
      },
      "execution_count": 6,
      "outputs": [
        {
          "output_type": "execute_result",
          "data": {
            "text/plain": [
              "8"
            ]
          },
          "metadata": {},
          "execution_count": 6
        }
      ]
    }
  ]
}