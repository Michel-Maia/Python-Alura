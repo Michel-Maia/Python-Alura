{
  "nbformat": 4,
  "nbformat_minor": 0,
  "metadata": {
    "colab": {
      "provenance": [],
      "authorship_tag": "ABX9TyN3jfgAuknvfzmbalAPdngL"
    },
    "kernelspec": {
      "name": "python3",
      "display_name": "Python 3"
    },
    "language_info": {
      "name": "python"
    }
  },
  "cells": [
    {
      "cell_type": "markdown",
      "source": [
        "## Laços e loops"
      ],
      "metadata": {
        "id": "pylFYBActvGn"
      }
    },
    {
      "cell_type": "code",
      "execution_count": 1,
      "metadata": {
        "id": "OYCLnTSctm79"
      },
      "outputs": [],
      "source": [
        "idades = [35, 54, 16, 27]"
      ]
    },
    {
      "cell_type": "code",
      "source": [
        "idades"
      ],
      "metadata": {
        "colab": {
          "base_uri": "https://localhost:8080/"
        },
        "id": "OZFfOFbJt9-t",
        "outputId": "f754a963-6a9e-4db8-bbd4-10a203311faa"
      },
      "execution_count": 2,
      "outputs": [
        {
          "output_type": "execute_result",
          "data": {
            "text/plain": [
              "[35, 54, 16, 27]"
            ]
          },
          "metadata": {},
          "execution_count": 2
        }
      ]
    },
    {
      "cell_type": "code",
      "source": [
        "# for fora da função\n",
        "\n",
        "def verifica_se_pode_dirigir(idade):\n",
        "  if idade>= 18:\n",
        "    print(f'{idade} anos de idade, TEM permissão para dirigir')\n",
        "  else: \n",
        "    print(f'{idade} anos de idade, Não tem permissão para dirigir')\n",
        "\n",
        "# para idade na nossa lista\n",
        "for idade in idades: \n",
        "  verifica_se_pode_dirigir(idade)"
      ],
      "metadata": {
        "colab": {
          "base_uri": "https://localhost:8080/"
        },
        "id": "TjCEiHd7uM_D",
        "outputId": "f17412da-a2ad-4297-d94b-d8c97a3c0f90"
      },
      "execution_count": 3,
      "outputs": [
        {
          "output_type": "stream",
          "name": "stdout",
          "text": [
            "35 anos de idade, TEM permissão para dirigir\n",
            "54 anos de idade, TEM permissão para dirigir\n",
            "16 anos de idade, Não tem permissão para dirigir\n",
            "27 anos de idade, TEM permissão para dirigir\n"
          ]
        }
      ]
    },
    {
      "cell_type": "code",
      "source": [
        "def verifica_se_pode_dirigir(idades):\n",
        "  for idade in idades: \n",
        "    if idade>= 18:\n",
        "      print(f'{idade} anos de idade, TEM permissão para dirigir')\n",
        "  else: \n",
        "    print(f'{idade} anos de idade, Não tem permissão para dirigir')\n",
        "\n",
        "verifica_se_pode_dirigir(idades)"
      ],
      "metadata": {
        "colab": {
          "base_uri": "https://localhost:8080/"
        },
        "id": "iRS4qebPwDPC",
        "outputId": "a76d6422-040e-4ce6-a1f6-f2d95bcfc4e5"
      },
      "execution_count": 4,
      "outputs": [
        {
          "output_type": "stream",
          "name": "stdout",
          "text": [
            "35 anos de idade, TEM permissão para dirigir\n",
            "54 anos de idade, TEM permissão para dirigir\n",
            "27 anos de idade, TEM permissão para dirigir\n",
            "27 anos de idade, Não tem permissão para dirigir\n"
          ]
        }
      ]
    }
  ]
}