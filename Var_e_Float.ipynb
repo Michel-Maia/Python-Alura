{
  "nbformat": 4,
  "nbformat_minor": 0,
  "metadata": {
    "colab": {
      "provenance": [],
      "authorship_tag": "ABX9TyMlQrYcPm9NgYB1wJPJpPW8"
    },
    "kernelspec": {
      "name": "python3",
      "display_name": "Python 3"
    },
    "language_info": {
      "name": "python"
    }
  },
  "cells": [
    {
      "cell_type": "markdown",
      "source": [
        "Variáveis, float e nomes das variáveis\n",
        "Podemos pedir para o Python lembrar de um valor que queiramos utilizar. O Python vai guardar este valor em uma variável.\n",
        "\n",
        "Variável é um nome que faz referência a um valor. É como uma etiqueta que colocamos naquele valor e quando precisarmos usar, chamamos pelo nome que foi dado na etiqueta.\n",
        "\n",
        "Um comando de atribuição (o sinal de igualdade =) cria uma nova variável e atribui um valor a ela, conforme vimos em aula.\n",
        "\n",
        "Float\n",
        "Além dos tipos vistos em aula, existe um tipo para armazenar um valor decimal, conforme ilustra o exemplo abaixo:"
      ],
      "metadata": {
        "id": "LUPaZrdm19RK"
      }
    },
    {
      "cell_type": "code",
      "execution_count": 1,
      "metadata": {
        "colab": {
          "base_uri": "https://localhost:8080/"
        },
        "id": "S-usMkCW1wSK",
        "outputId": "5cb24693-1d48-45d9-9d92-daf6d934068d"
      },
      "outputs": [
        {
          "output_type": "execute_result",
          "data": {
            "text/plain": [
              "float"
            ]
          },
          "metadata": {},
          "execution_count": 1
        }
      ],
      "source": [
        "pi = 3.14\n",
        "type(pi)"
      ]
    },
    {
      "cell_type": "markdown",
      "source": [
        "Ao executar a saída será \n",
        "\n",
        "float"
      ],
      "metadata": {
        "id": "GDALjQ5Y2H3V"
      }
    },
    {
      "cell_type": "markdown",
      "source": [
        "Nome das variáveis\n",
        "Programadores escolhem nomes para variáveis que sejam semânticos. Esses nomes podem ser bem longos, podem conter letras e números.\n",
        "\n",
        "É uma convenção entre os programadores Python começar a variável com letras minúsculas e utilizar o underscore ( _ ) para separar palavras como: meu_nome, numero_de_cadastro, telefone_residencial. Esse padrão é chamado de snake case."
      ],
      "metadata": {
        "id": "LF6N0RRT2R8u"
      }
    }
  ]
}