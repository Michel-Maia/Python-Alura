{
  "nbformat": 4,
  "nbformat_minor": 0,
  "metadata": {
    "colab": {
      "provenance": [],
      "authorship_tag": "ABX9TyPB7uLvjsV129L9jKpTQzeF"
    },
    "kernelspec": {
      "name": "python3",
      "display_name": "Python 3"
    },
    "language_info": {
      "name": "python"
    }
  },
  "cells": [
    {
      "cell_type": "markdown",
      "source": [
        "No Python, uma lista pode armazenar elementos de diferentes tipos"
      ],
      "metadata": {
        "id": "hN6xzvcy9iWO"
      }
    },
    {
      "cell_type": "code",
      "execution_count": 1,
      "metadata": {
        "id": "ACgRj57B75nS"
      },
      "outputs": [],
      "source": [
        "lista = ['int', False, True, '18', 2020]"
      ]
    },
    {
      "cell_type": "markdown",
      "source": [
        "Para descobrir o tipo de cada elemento, podemos criar um loop"
      ],
      "metadata": {
        "id": "BJQSmCA19o1y"
      }
    },
    {
      "cell_type": "code",
      "source": [
        "for elemento in lista:\n",
        " print(type(elemento))\n"
      ],
      "metadata": {
        "colab": {
          "base_uri": "https://localhost:8080/"
        },
        "id": "x5Vodmpt9q4j",
        "outputId": "c24abba8-6bf5-48c6-b0fa-36217d60f4c6"
      },
      "execution_count": 2,
      "outputs": [
        {
          "output_type": "stream",
          "name": "stdout",
          "text": [
            "<class 'str'>\n",
            "<class 'bool'>\n",
            "<class 'bool'>\n",
            "<class 'str'>\n",
            "<class 'int'>\n"
          ]
        }
      ]
    }
  ]
}